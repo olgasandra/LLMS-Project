{
  "nbformat": 4,
  "nbformat_minor": 0,
  "metadata": {
    "colab": {
      "provenance": []
    },
    "kernelspec": {
      "name": "python3",
      "display_name": "Python 3"
    },
    "language_info": {
      "name": "python"
    }
  },
  "cells": [
    {
      "cell_type": "code",
      "source": [
        "# Importing the necessary libraries\n",
        "import openai\n",
        "import pandas as pd\n",
        "import numpy as np\n",
        "\n",
        "client = openai"
      ],
      "metadata": {
        "id": "k3shDqbR46aX"
      },
      "execution_count": 7,
      "outputs": []
    },
    {
      "cell_type": "code",
      "source": [
        "# Accessing the openai api_key\n",
        "client.api_key = \"API_Key\""
      ],
      "metadata": {
        "id": "4MoC_jqI5HJE"
      },
      "execution_count": 8,
      "outputs": []
    },
    {
      "cell_type": "code",
      "execution_count": 3,
      "metadata": {
        "id": "NgoH3rSy0QJc"
      },
      "outputs": [],
      "source": [
        "# Importing the preprocessed data\n",
        "preprocessed_isco_08_data = pd.read_csv(\"preprocessed_isco_08_data.csv\")"
      ]
    },
    {
      "cell_type": "code",
      "source": [
        "# Function to generate embeddings\n",
        "def get_embedding(text, model=\"text-embedding-ada-002\"):\n",
        "    # Replace newlines with spaces to avoid errors\n",
        "    text = text.replace(\"\\n\", \" \")\n",
        "    # Calling the OpenAI API to create embeddings\n",
        "    response = client.Embedding.create(input=text, model=model)\n",
        "    # Return the embedding vector\n",
        "    return response['data'][0]['embedding']"
      ],
      "metadata": {
        "id": "lFvqSAc95dcb"
      },
      "execution_count": 9,
      "outputs": []
    },
    {
      "cell_type": "code",
      "source": [
        "# Creating the Embeddings in the dataset\n",
        "preprocessed_isco_08_data['embeddings'] = preprocessed_isco_08_data[\"detailed_explanation\"].apply(get_embedding)\n",
        "\n",
        "# saving the embedded data\n",
        "preprocessed_isco_08_data.to_csv(\"isco_08_df_with_embeddings.csv\", index = False)\n",
        "preprocessed_isco_08_data.to_pickle(\"isco_08_df_with_embeddings.pkl\")\n"
      ],
      "metadata": {
        "id": "qAndUFaO1Hdq"
      },
      "execution_count": 1,
      "outputs": []
    },
    {
      "cell_type": "code",
      "source": [
        "# Importing the embedded data\n",
        "isco_08_df_with_embeddings = pd.read_pickle(\"isco_08_df_with_embeddings.pkl\")\n",
        "\n",
        "# retrieving the first few rows of embeddings column\n",
        "isco_08_df_with_embeddings['embeddings'].head()"
      ],
      "metadata": {
        "colab": {
          "base_uri": "https://localhost:8080/",
          "height": 241
        },
        "id": "_ZjCIeW34IHV",
        "outputId": "a87ac761-ad9d-45f6-feae-6476f85816be"
      },
      "execution_count": 6,
      "outputs": [
        {
          "output_type": "execute_result",
          "data": {
            "text/plain": [
              "3    [0.0013290219940245152, 0.007148989010602236, ...\n",
              "4    [0.007645719218999147, -0.007002497091889381, ...\n",
              "5    [-0.007697697263211012, 0.005955907050520182, ...\n",
              "6    [-0.014344722963869572, -0.023523719981312752,...\n",
              "8    [-0.017747338861227036, -0.008417422883212566,...\n",
              "Name: embeddings, dtype: object"
            ],
            "text/html": [
              "<div>\n",
              "<style scoped>\n",
              "    .dataframe tbody tr th:only-of-type {\n",
              "        vertical-align: middle;\n",
              "    }\n",
              "\n",
              "    .dataframe tbody tr th {\n",
              "        vertical-align: top;\n",
              "    }\n",
              "\n",
              "    .dataframe thead th {\n",
              "        text-align: right;\n",
              "    }\n",
              "</style>\n",
              "<table border=\"1\" class=\"dataframe\">\n",
              "  <thead>\n",
              "    <tr style=\"text-align: right;\">\n",
              "      <th></th>\n",
              "      <th>embeddings</th>\n",
              "    </tr>\n",
              "  </thead>\n",
              "  <tbody>\n",
              "    <tr>\n",
              "      <th>3</th>\n",
              "      <td>[0.0013290219940245152, 0.007148989010602236, ...</td>\n",
              "    </tr>\n",
              "    <tr>\n",
              "      <th>4</th>\n",
              "      <td>[0.007645719218999147, -0.007002497091889381, ...</td>\n",
              "    </tr>\n",
              "    <tr>\n",
              "      <th>5</th>\n",
              "      <td>[-0.007697697263211012, 0.005955907050520182, ...</td>\n",
              "    </tr>\n",
              "    <tr>\n",
              "      <th>6</th>\n",
              "      <td>[-0.014344722963869572, -0.023523719981312752,...</td>\n",
              "    </tr>\n",
              "    <tr>\n",
              "      <th>8</th>\n",
              "      <td>[-0.017747338861227036, -0.008417422883212566,...</td>\n",
              "    </tr>\n",
              "  </tbody>\n",
              "</table>\n",
              "</div><br><label><b>dtype:</b> object</label>"
            ]
          },
          "metadata": {},
          "execution_count": 6
        }
      ]
    }
  ]
}